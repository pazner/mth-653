{
 "cells": [
  {
   "cell_type": "markdown",
   "metadata": {},
   "source": [
    "# MTH 653: Advanced Numerical Analysis"
   ]
  },
  {
   "cell_type": "markdown",
   "metadata": {},
   "source": [
    "## Homework Assignment 4"
   ]
  },
  {
   "cell_type": "markdown",
   "metadata": {},
   "source": [
    "### <span style=\"color:red;\">Write your name here</span>"
   ]
  },
  {
   "cell_type": "markdown",
   "metadata": {
    "id": "d5sMJY4v8Tol"
   },
   "source": [
    "### Guidelines\n",
    "\n",
    "* Each student must complete their own assignment individually.\n",
    "  * Discussing with other students is allowed (encouraged!), but you must write your own answers and code.\n",
    "  * The use of ChatGTP, Copilot, or other AI assistants is **not allowed**\n",
    "* The code must run in Colab or JupyterHub without errors.\n",
    "  * Code that does not run will not receive any credit.\n",
    "  * I suggest double-checking that your code runs properly in a new session. Sometimes code can be broken but appear to work because of old state in the notebook."
   ]
  },
  {
   "cell_type": "markdown",
   "metadata": {},
   "source": [
    "### Google Colab Instructions\n",
    "\n",
    "* After opening this assignment in Google Colab, click on **\"Copy to Drive\"**\n",
    "* Rename the notebook to `student_name_mth_653_assignment_4.ipynb`\n",
    "    * ⚠️ In the above, replace `student_name` with your name!\n",
    "* Enter your name above (in the cell below \"Homework Assignment\")!\n",
    "* When you are ready to submit your assignment, select \"File -> Download -> Download .ipynb\" from the Colab menu\n",
    "* Upload the downloaded `.ipynb` file to Canvas"
   ]
  },
  {
   "cell_type": "markdown",
   "metadata": {
    "vscode": {
     "languageId": "plaintext"
    }
   },
   "source": [
    "Refer to lecture note 9 for the construction of the lowest-order Raviart-Thomas element on triangular meshes."
   ]
  },
  {
   "cell_type": "markdown",
   "metadata": {},
   "source": [
    "#### 1. Piola transformation (3 points)\n",
    "\n",
    "Let $\\kappa = T(\\hat\\kappa)$, and let $J$ denote the Jacobian matrix of $T$.\n",
    "Given $\\hat{\\boldsymbol{v}} : \\hat\\kappa \\to \\mathbb{R}^d$, define $\\boldsymbol v$ by\n",
    "$$\n",
    "   \\boldsymbol v = \\frac{1}{\\det(J)} J \\hat{\\boldsymbol{v}} \\circ T^{-1}.\n",
    "$$\n",
    "\n",
    "In the lecture notes, it was proven that\n",
    "$$\n",
    "\\int_\\kappa \\boldsymbol{v} \\cdot \\nabla w \\, dx\n",
    "        = \\int_{\\hat\\kappa} \\hat{\\boldsymbol{v}} \\cdot \\nabla \\hat{w} \\, dx.\n",
    "$$\n",
    "\n",
    "Prove further that\n",
    "$$\n",
    "\\int_{\\kappa} (\\nabla \\cdot \\boldsymbol{v}) w \\, dx\n",
    "        = \\int_{\\hat\\kappa} (\\nabla \\cdot \\hat{\\boldsymbol{v}}) \\hat{w} \\, dx.\n",
    "$$"
   ]
  },
  {
   "cell_type": "markdown",
   "metadata": {},
   "source": [
    "#### 2. Raviart-Thomas in 3D (2 points each)\n",
    "\n",
    "The local lowest-order Raviart-Thomas space space is\n",
    "$$\n",
    "   \\boldsymbol{RT}_0(\\kappa) = \\{ \\boldsymbol{v}(\\boldsymbol{x}) = \\boldsymbol{a} + b \\boldsymbol{x} : \\boldsymbol{a} \\in \\mathbb{R}^d, b \\in \\mathbb{R} \\}.\n",
    "$$\n",
    "The lecture notes describe how to use this space to construct a low-order $H(\\mathrm{div})$ finite element space on triangular meshes.\n",
    "\n",
    "Describe how you would extend this construction to tetrahedral meshes in 3D.\n",
    "\n",
    "For the following questions, $d = 3$, and $\\mathcal{T} = \\{ \\kappa \\}$ is a mesh of tetrahedral elements;\n",
    "as in the triangular case, each tetrahedron $\\kappa$ is the image of the reference tetrahedron $\\hat{\\kappa}$ under an affine transformation $T : \\mathbb{R}^d \\to \\mathbb{R}^d$.\n",
    "\n",
    "(a) Compute $\\nabla\\cdot\\boldsymbol{v}$ for $\\boldsymbol{v} \\in \\boldsymbol{RT}_0(\\kappa)$.\n",
    "\n",
    "(b) Prove that $\\boldsymbol{v} \\cdot \\boldsymbol{n}$ ($\\boldsymbol{v} \\in \\boldsymbol{RT}_0(\\kappa)$) is constant along each face of $\\kappa$.\n",
    "\n",
    "(c) Define **degrees of freedom** $c_i$ analogous to the triangular case.\n",
    "\n",
    "(d) Prove that these degrees of freedom are **unisolvent**.\n",
    "\n",
    "(e) Describe how to construct the global RT space $\\boldsymbol{V}_h$ using these degrees of freedom."
   ]
  },
  {
   "cell_type": "markdown",
   "metadata": {},
   "source": []
  }
 ],
 "metadata": {
  "colab": {
   "provenance": []
  },
  "kernelspec": {
   "display_name": ".venv",
   "language": "python",
   "name": "python3"
  },
  "language_info": {
   "codemirror_mode": {
    "name": "ipython",
    "version": 3
   },
   "file_extension": ".py",
   "mimetype": "text/x-python",
   "name": "python",
   "nbconvert_exporter": "python",
   "pygments_lexer": "ipython3",
   "version": "3.12.10"
  }
 },
 "nbformat": 4,
 "nbformat_minor": 0
}
