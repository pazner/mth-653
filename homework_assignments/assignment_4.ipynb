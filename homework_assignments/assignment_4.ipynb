{
  "cells": [
    {
      "attachments": {},
      "cell_type": "markdown",
      "metadata": {},
      "source": [
        "# MTH 653: Advanced Numerical Analysis"
      ]
    },
    {
      "attachments": {},
      "cell_type": "markdown",
      "metadata": {},
      "source": [
        "## Homework Assignment 4"
      ]
    },
    {
      "attachments": {},
      "cell_type": "markdown",
      "metadata": {
        "id": "d5sMJY4v8Tol"
      },
      "source": [
        "### Guidelines\n",
        "\n",
        "* Each student must complete their own assignment individually.\n",
        "  * Discussing with other students is allowed (encouraged!), but you must write your own answers and not copy off of others.\n",
        "* Submit the homework in one of the following formats:\n",
        "  * Jupyter notebook with **properly formatted LaTeX**\n",
        "  * PDF typeset with LaTeX\n",
        "  * **Hard copy** in class (not scanned)"
      ]
    },
    {
      "attachments": {},
      "cell_type": "markdown",
      "metadata": {},
      "source": [
        "#### 1. (4 points)\n",
        "\n",
        "Let $\\boldsymbol{u}(\\boldsymbol{x},t)$ denote the velocity of particles in a domain.\n",
        "\n",
        "Let $\\boldsymbol{\\Phi}(\\boldsymbol{x},t)$ denote the **trajectory** of the particle that is at point $\\boldsymbol{x}$ at $t = 0$, and denote $\\boldsymbol{\\Phi}_t(\\boldsymbol{x}) = \\boldsymbol{\\Phi}(\\boldsymbol{x}, t)$.\n",
        "\n",
        "Let $J(\\boldsymbol{x}, t)$ denote the determinant of the Jacobian matrix of $\\boldsymbol{\\Phi}$.\n",
        "\n",
        "Prove that\n",
        "\n",
        "$$\n",
        "   \\frac{\\partial}{\\partial t} J(\\boldsymbol{x}, t)\n",
        "   = J(\\boldsymbol{x},t) \\nabla \\cdot \\boldsymbol{u}( \\boldsymbol{\\Phi}(\\boldsymbol{x}, t), t )\n",
        "$$"
      ]
    },
    {
      "attachments": {},
      "cell_type": "markdown",
      "metadata": {},
      "source": [
        "#### 2. (2 points)\n",
        "\n",
        "Recall the material derivative is defined by\n",
        "$$\n",
        "   \\frac{D}{Dt} := \\partial_t + \\boldsymbol{u} \\cdot \\nabla\n",
        "$$\n",
        "\n",
        "Prove that\n",
        "$$\n",
        "   \\frac{\\partial}{\\partial t}f ( \\boldsymbol{\\Phi}(\\boldsymbol{x}, t), t)\n",
        "   = \\frac{Df}{Dt} (x, t)\n",
        "$$"
      ]
    },
    {
      "attachments": {},
      "cell_type": "markdown",
      "metadata": {},
      "source": [
        "#### 3. (2 points)\n",
        "\n",
        "Given a subset $W \\subseteq \\Omega$, let $W_t := \\boldsymbol{\\Phi}_t(W)$ denote the time-dependent domain that is moving with the fluid flow.\n",
        "\n",
        "Assume conservation of mass, i.e.\n",
        "$$\n",
        "   \\frac{\\partial \\rho}{\\partial t} + \\nabla\\cdot(\\rho \\boldsymbol{u}) = 0.\n",
        "$$\n",
        "\n",
        "Prove the Reynolds transport theorem\n",
        "$$\n",
        "   \\frac{d}{dt} \\int_{W_t} \\rho f \\, d\\boldsymbol{x} = \\int_{W_t} \\rho \\frac{Df}{Dt} \\, d\\boldsymbol{x}.\n",
        "$$"
      ]
    },
    {
      "attachments": {},
      "cell_type": "markdown",
      "metadata": {},
      "source": [
        "#### 4. (2 points)\n",
        "\n",
        "Prove the following variant of the Reynolds transport theorem.\n",
        "$$\n",
        "   \\frac{d}{dt} \\int_{W_t} f \\, d\\boldsymbol{x} = \\int_{W_t} \\left( \\frac{\\partial f}{\\partial t} + \\nabla\\cdot(f \\boldsymbol{u}) \\right) \\, d\\boldsymbol{x}\n",
        "$$"
      ]
    },
    {
      "attachments": {},
      "cell_type": "markdown",
      "metadata": {},
      "source": [
        "#### 5. (4 points)\n",
        "\n",
        "Let $b(\\cdot, \\cdot, \\cdot)$ denote the trilinear form\n",
        "$$\n",
        "   b(u, v, w) := \\frac{1}{2} \\int_\\Omega ((\\boldsymbol{u} \\cdot \\nabla) \\boldsymbol{v}) \\cdot \\boldsymbol{w} \\, d\\boldsymbol{x} - \\frac{1}{2} \\int_\\Omega ((\\boldsymbol{u} \\cdot \\nabla) \\boldsymbol{w}) \\cdot \\boldsymbol{v} \\, d\\boldsymbol{x}.\n",
        "$$\n",
        "\n",
        "Prove that\n",
        "$$\n",
        "   b(\\boldsymbol{w}, \\boldsymbol{v}, \\boldsymbol{v}) = 0\n",
        "$$\n",
        "for sufficiently smooth $\\boldsymbol{w}, \\boldsymbol{v}$.\n",
        "\n",
        "Prove that\n",
        "$$\n",
        "   b(\\boldsymbol{u}, \\boldsymbol{v}, \\boldsymbol{w}) = \\int_\\Omega ((\\boldsymbol{u} \\cdot \\nabla) \\boldsymbol{v}) \\cdot \\boldsymbol{w} \\, d\\boldsymbol{x}\n",
        "$$\n",
        "for $\\boldsymbol{v}, \\boldsymbol{w} \\in \\boldsymbol{H}^1_0(\\Omega)$ and $\\boldsymbol{u}$ sufficiently smooth with $\\nabla \\cdot \\boldsymbol{u} = 0$."
      ]
    }
  ],
  "metadata": {
    "colab": {
      "provenance": []
    },
    "kernelspec": {
      "display_name": "mth-652",
      "language": "python",
      "name": "mth-652"
    },
    "vscode": {
      "interpreter": {
        "hash": "b0fa6594d8f4cbf19f97940f81e996739fb7646882a419484c72d19e05852a7e"
      }
    }
  },
  "nbformat": 4,
  "nbformat_minor": 0
}
