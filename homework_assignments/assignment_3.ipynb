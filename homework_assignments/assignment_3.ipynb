{
  "cells": [
    {
      "attachments": {},
      "cell_type": "markdown",
      "metadata": {},
      "source": [
        "# MTH 653: Advanced Numerical Analysis"
      ]
    },
    {
      "attachments": {},
      "cell_type": "markdown",
      "metadata": {},
      "source": [
        "## Homework Assignment 3"
      ]
    },
    {
      "attachments": {},
      "cell_type": "markdown",
      "metadata": {
        "id": "d5sMJY4v8Tol"
      },
      "source": [
        "### Guidelines\n",
        "\n",
        "* Each student must complete their own assignment individually.\n",
        "  * Discussing with other students is allowed (encouraged!), but you must write your own answers and not copy off of others.\n",
        "* Submit the homework in one of the following formats:\n",
        "  * Jupyter notebook with **properly formatted LaTeX**\n",
        "  * PDF typeset with LaTeX\n",
        "  * **Hard copy** in class (not scanned)"
      ]
    },
    {
      "attachments": {},
      "cell_type": "markdown",
      "metadata": {},
      "source": [
        "### Burgers' Equation\n",
        "\n",
        "Burgers' equation, which is a relatively simple model for inviscid fluid flow, is given by\n",
        "$$\n",
        "   \\frac{\\partial u}{\\partial t} + u \\frac{\\partial u}{\\partial x} = 0.\n",
        "$$"
      ]
    },
    {
      "attachments": {},
      "cell_type": "markdown",
      "metadata": {},
      "source": [
        "#### 1. (2 points)\n",
        "\n",
        "Write Burgers' equation in conservation form, i.e. in the form of a hyperbolic conservation law\n",
        "$$\n",
        "   \\frac{\\partial u}{\\partial t} + \\frac{\\partial F(u)}{\\partial x} = 0,\n",
        "$$\n",
        "where $F$ is the flux function."
      ]
    },
    {
      "attachments": {},
      "cell_type": "markdown",
      "metadata": {},
      "source": [
        "#### 2. Method of characteristics for Burgers' Equation"
      ]
    },
    {
      "attachments": {},
      "cell_type": "markdown",
      "metadata": {},
      "source": [
        "##### 2a. Smooth solutions (2 points)\n",
        "\n",
        "Denote by $y(s) = (t(s), x(s))$ the characteristic curve ($y : \\mathbb{R} \\to \\mathbb{R}^2$).\n",
        "\n",
        "Let $z(s) = u(y(s))$ denote the solution to Burgers' equation _along this curve_.\n",
        "\n",
        "Suppose $y(s)$ satisfies $y(s) = (s, z(x_0) s + x_0)$ for a given point $x_0$.\n",
        "\n",
        "Show that the solution $u(t, x)$ is constant along this curves. What is its value? (Hint: differentiate $z$ with respect to $s$.)"
      ]
    },
    {
      "attachments": {},
      "cell_type": "markdown",
      "metadata": {},
      "source": [
        "##### 2b. (2 points)\n",
        "\n",
        "Let $\\Omega = \\mathbb{R}$ and define the initial condition\n",
        "$$\n",
        "   u_0(x) = \\begin{cases}\n",
        "      0 & \\text{if $x \\leq 0$} \\\\\n",
        "      x & \\text{if $0 \\leq x \\leq 1$} \\\\\n",
        "      1 & \\text{if $x \\geq 1$}.\n",
        "   \\end{cases}\n",
        "$$\n",
        "\n",
        "Use the method of characteristics (i.e. problem 2a) to write down the solution to Burgers' equation for $t \\in [0, T]$, where $T$ is some maximal time.\n",
        "What is the largest you can choose $T$ for your solution to remain valid?"
      ]
    },
    {
      "attachments": {},
      "cell_type": "markdown",
      "metadata": {},
      "source": [
        "##### 2c. (2 points)\n",
        "\n",
        "Let $\\Omega = \\mathbb{R}$ and define the initial condition\n",
        "$$\n",
        "   u_0(x) = \\begin{cases}\n",
        "      1 & \\text{if $x \\leq 0$} \\\\\n",
        "      1-x & \\text{if $0 \\leq x \\leq 1$} \\\\\n",
        "      0 & \\text{if $x \\geq 1$}.\n",
        "   \\end{cases}\n",
        "$$\n",
        "\n",
        "Use the method of characteristics (i.e. problem 2a) to write down the solution to Burgers' equation for $t \\in [0, T]$, where $T$ is some maximal time.\n",
        "What is the largest you can choose $T$ for your solution to remain valid?"
      ]
    },
    {
      "attachments": {},
      "cell_type": "markdown",
      "metadata": {},
      "source": [
        "##### 2d. (1 point)\n",
        "\n",
        "What happens to the characteristic curves at the maximal time $T$?"
      ]
    },
    {
      "attachments": {},
      "cell_type": "markdown",
      "metadata": {},
      "source": [
        "#### 3. Weak solutions (2 points)\n",
        "\n",
        "A **weak solution** to a hyperbolic conservation law is defined to satisfy\n",
        "$$\n",
        "   \\int_0^{\\infty} \\int_{-\\infty}^{\\infty} u v_t + F v_x \\, dx \\, dt + \\int_{-\\infty}^{\\infty} u_0 v|_{t=0} \\, dx = 0,\n",
        "$$\n",
        "for all smooth test functions $v(t, x)$.\n",
        "\n",
        "Show that if $u$ is a smooth weak solution, then $u$ satisfies the differential equation\n",
        "$$\n",
        "   u_t + F_x = 0.\n",
        "$$"
      ]
    },
    {
      "attachments": {},
      "cell_type": "markdown",
      "metadata": {},
      "source": [
        "#### 4. Shocks and the Rankine-Hugoniot jump condition\n",
        "\n",
        "#### 4a. (2 points)\n",
        "\n",
        "Let $u : (0,\\infty) \\times \\mathbb{R}$ be a weak solution to the conservation law.\n",
        "\n",
        "Suppose there is a smooth curve $C$ that partitions $(0,\\infty) \\times \\mathbb{R}$ into $V_L$ and $V_R$ (the regions to the left and the right of the curve, respectively).\n",
        "\n",
        "Integrate (by parts) over the regions $V_L$ and $V_R$ to obtain the condition\n",
        "$$\n",
        "   \\int_C (u_L n_t + F_L n_x) v \\, ds = \\int_C (u_R n_t + F_R n_x) v \\, ds,\n",
        "$$\n",
        "where $(n_t, n_x)$ is the vector normal to the curve $C$ (pointing outward from $V_L$)."
      ]
    },
    {
      "attachments": {},
      "cell_type": "markdown",
      "metadata": {},
      "source": [
        "##### 4b. (2 points)\n",
        "\n",
        "Let the curve $C$ be parameterized as $\\{ (t, x(t)) \\}$, where $x'(t) = \\sigma$.\n",
        "When $u$ is discontinuous across $C$, it is called a **shock**. The quantity $\\sigma$ is called the **shock speed** of the shock curve $C$.\n",
        "\n",
        "Use 4a to show that\n",
        "$$\n",
        "   F_L - F_R = \\sigma (u_L - u_R).\n",
        "$$"
      ]
    },
    {
      "attachments": {},
      "cell_type": "markdown",
      "metadata": {},
      "source": [
        "##### 4c. (2 points)\n",
        "\n",
        "Let $s(t) = (1 + t)/2$.\n",
        "Extend the solution from 2c to $t > T$ by\n",
        "$$\n",
        "   u(x) = \\begin{cases}\n",
        "      1 & \\text{if x < s(t)}\\\\\n",
        "      0 & \\text{if x > s(t)}\n",
        "   \\end{cases}\n",
        "$$\n",
        "\n",
        "Show that this is a weak solution to IVP given in problem 2c."
      ]
    },
    {
      "attachments": {},
      "cell_type": "markdown",
      "metadata": {},
      "source": [
        "#### 5. (Entropy condition)\n",
        "\n",
        "Based on the criterion that moving *backwards* along a characteristic curve, one should never encounter a discontinuity, it is possible to derive the *entropy condition*\n",
        "$$\n",
        "   F'_L > \\sigma > F'_R,\n",
        "$$\n",
        "where $\\sigma$ is the shock speed of the curve $C$ (see 4b) and $F_L'$ and $F_R'$ are the traces of $F'$ (the derivative of $F$ with respect to $u$) from within $V_L$ and $V_R$, respectively.\n",
        "Specifically, in the case of Burgers' equation, this condition gives\n",
        "$$\n",
        "   u_L > \\sigma > u_R.\n",
        "$$\n"
      ]
    },
    {
      "attachments": {},
      "cell_type": "markdown",
      "metadata": {},
      "source": [
        "##### 5a. (2 points)\n",
        "\n",
        "Consider the initial condition\n",
        "$$\n",
        "   u_0(x) = \\begin{cases}\n",
        "      0 & \\text{if $x < 0$} \\\\\n",
        "      1 & \\text{if $x > 0$}.\n",
        "   \\end{cases}\n",
        "$$\n",
        "\n",
        "Show that both\n",
        "$$\n",
        "   u(t,x) = \\begin{cases}\n",
        "      0 & \\text{if $x < t/2$} \\\\\n",
        "      1 & \\text{if $x > t/2$}.\n",
        "   \\end{cases}\n",
        "$$\n",
        "and\n",
        "$$\n",
        "   u(t,x) = \\begin{cases}\n",
        "      0 & \\text{if $x < 0$} \\\\\n",
        "      x/t & \\text{if $0 < x < t$} \\\\\n",
        "      1 & \\text{if $x > t$}.\n",
        "   \\end{cases}\n",
        "$$\n",
        "are weak solutions satisfying the Rankine-Hugoniot conditions.\n",
        "\n",
        "Which (if any) satisfy the entropy condition?"
      ]
    },
    {
      "attachments": {},
      "cell_type": "markdown",
      "metadata": {},
      "source": [
        "##### 5b. (2 points)\n",
        "\n",
        "Consider the Riemann problem with initial data\n",
        "$$\n",
        "   u_0(x) = \\begin{cases}\n",
        "      u_L & \\text{if $x < 0$} \\\\\n",
        "      u_R & \\text{if $x > 0$}\n",
        "   \\end{cases}\n",
        "$$\n",
        "\n",
        "If $u_L > u_R$, what is the unique entropy solution to the Riemann problem? (Hint: Rankine-Hugoniot)"
      ]
    },
    {
      "attachments": {},
      "cell_type": "markdown",
      "metadata": {},
      "source": [
        "##### 5c. (2 points)\n",
        "\n",
        "Consider the same Riemann problem, but now assume $u_L < u_R$.\n",
        "What is the unique entropy solution to the Riemann problem?\n",
        "\n",
        "**Hint:** the solution takes the form of a \"rarefaction fan\". The solution is constant along characteristic curves, and the \"missing\" middle state is given by $u(t,x) = x / t$."
      ]
    },
    {
      "attachments": {},
      "cell_type": "markdown",
      "metadata": {},
      "source": [
        "#### 6. Coding\n",
        "\n",
        "#### 6a. (4 points)\n",
        "\n",
        "Implement Godunov's method for Burgers' equation.\n",
        "\n",
        "Set the domain $\\Omega = [-1, 1]$ and initial condition $u_0 = \\exp(-10(x-1/8)^2) - \\exp(-10(x+1/8)^2)$.\n",
        "\n",
        "Integrate until $T = 1$ using 200 cells and $\\Delta t = h$ and plot the solution.\n",
        "\n",
        "Describe qualitatively how the behavior of the solution changes over time."
      ]
    },
    {
      "attachments": {},
      "cell_type": "markdown",
      "metadata": {},
      "source": [
        "##### 6b. (4 points)\n",
        "\n",
        "Now solve the problem on the same domain with piecewise constant initial conditions\n",
        "$$\n",
        "   u_0(x) = \\begin{cases}\n",
        "      -1/2 & \\text{if $-1/2 < x < 0$}\\\\\n",
        "      1/2 & \\text{if $0 < x < 1/2$}\\\\\n",
        "      0 & \\text{otherwise}\n",
        "   \\end{cases}\n",
        "$$\n",
        "\n",
        "Explain the structure of the solution in relation to the concepts developed in this problem set. What is the relevant shock speed?"
      ]
    },
    {
      "attachments": {},
      "cell_type": "markdown",
      "metadata": {},
      "source": [
        "#### 6c. (4 points)\n",
        "\n",
        "Implement the local Lax-Friedrichs method and re-run 6a. How do the results compare? What is the main advantage of this method relative to Godunov's method?"
      ]
    }
  ],
  "metadata": {
    "colab": {
      "provenance": []
    },
    "kernelspec": {
      "display_name": "mth-652",
      "language": "python",
      "name": "mth-652"
    },
    "vscode": {
      "interpreter": {
        "hash": "b0fa6594d8f4cbf19f97940f81e996739fb7646882a419484c72d19e05852a7e"
      }
    }
  },
  "nbformat": 4,
  "nbformat_minor": 0
}
