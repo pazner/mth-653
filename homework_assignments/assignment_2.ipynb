{
  "cells": [
    {
      "attachments": {},
      "cell_type": "markdown",
      "metadata": {},
      "source": [
        "# MTH 653: Advanced Numerical Analysis"
      ]
    },
    {
      "attachments": {},
      "cell_type": "markdown",
      "metadata": {},
      "source": [
        "## Homework Assignment 2"
      ]
    },
    {
      "attachments": {},
      "cell_type": "markdown",
      "metadata": {
        "id": "d5sMJY4v8Tol"
      },
      "source": [
        "### Guidelines\n",
        "\n",
        "* Each student must complete their own assignment individually.\n",
        "  * Discussing with other students is allowed (encouraged!), but you must write your own answers and not copy off of others.\n",
        "* Submit the homework in one of the following formats:\n",
        "  * Jupyter notebook with **properly formatted LaTeX**\n",
        "  * PDF typeset with LaTeX\n",
        "  * **Hard copy** in class (not scanned)"
      ]
    },
    {
      "attachments": {},
      "cell_type": "markdown",
      "metadata": {},
      "source": [
        "## Written Questions"
      ]
    },
    {
      "attachments": {},
      "cell_type": "markdown",
      "metadata": {},
      "source": [
        "#### 1. (2 points)\n",
        "\n",
        "Consider the advection-reaction equation\n",
        "$$\n",
        "   \\nabla \\cdot (\\boldsymbol\\beta u) + c u = f.\n",
        "$$\n",
        "\n",
        "Define the **upwind value** $\\widehat{u}$.\n",
        "\n",
        "Prove that the **upwind flux** is equivalent to the \"general flux\"\n",
        "$$\n",
        "   \\{ u \\} \\boldsymbol\\beta + b_0 [\\![ u ]\\!]\n",
        "$$\n",
        "when $b_0 = \\frac{1}{2} | \\boldsymbol\\beta \\cdot \\boldsymbol{n} |$."
      ]
    },
    {
      "attachments": {},
      "cell_type": "markdown",
      "metadata": {},
      "source": [
        "#### 2. (2 points)\n",
        "\n",
        "Use the coercivity result from class to prove the following stability result for the DG discretization:\n",
        "$$\n",
        "   \\vert\\kern-0.25ex\\vert\\kern-0.25ex\\vert u \\vert\\kern-0.25ex\\vert\\kern-0.25ex\\vert \\lesssim \\| f \\|_{L^2(\\Omega)} + \\| | \\boldsymbol\\beta \\cdot \\boldsymbol{n} |^{1/2} g  \\|_{L^2(\\Gamma^{-})}\n",
        "$$\n",
        "where $g$ is the prescribed inflow boundary condition."
      ]
    },
    {
      "attachments": {},
      "cell_type": "markdown",
      "metadata": {},
      "source": [
        "#### 3. (2 points)\n",
        "\n",
        "Let $\\Pi_h : L^2(\\Omega) \\to V_h$ denote $L^2$ projection, where $V_h$ is defined by\n",
        "$$\n",
        "   V_h = \\{ v_h \\in L^2(\\Omega) : v_h|_K \\in \\mathcal{P}_p(K) \\},\n",
        "$$\n",
        "i.e.\n",
        "$$\n",
        "   \\int_\\Omega u v_h \\, dx = \\int_\\Omega \\Pi_h(u) v_h \\, dx.\n",
        "$$\n",
        "for all test functions $v_h \\in V_h$.\n",
        "\n",
        "Prove that $\\Pi_h u = u_h$, where $u_h$ is given by the **local** $L^2$ projections on each element\n",
        "$$\n",
        "   \\int_\\Omega u v_h \\, dx = \\int_\\Omega \\Pi_h(u) v_h \\, dx\n",
        "$$\n",
        "for all test functions $v_h \\in \\mathcal{P}_p(K)$."
      ]
    },
    {
      "attachments": {},
      "cell_type": "markdown",
      "metadata": {},
      "source": [
        "#### 4. (2 points)\n",
        "\n",
        "Let $u \\in H^{p+1}(K)$, where $K$ is a triangle of diameter $h$.\n",
        "It is possible to show that\n",
        "$$\n",
        "   \\| u - \\Pi_h u \\|_{H^r(K)} \\lesssim h^{p+1-r} \\| u \\|_{H^{p+1}(K)}.\n",
        "$$\n",
        "\n",
        "Assuming this, prove that\n",
        "$$\n",
        "   \\| u - \\Pi_h u \\|_{L^2(\\partial K)} \\lesssim h^{p+1/2} \\| u \\|_{H^{p+1}(K)}\n",
        "$$\n",
        "(hint: trace inequality combined with a scaling argument)."
      ]
    },
    {
      "attachments": {},
      "cell_type": "markdown",
      "metadata": {},
      "source": [
        "## Coding"
      ]
    },
    {
      "attachments": {},
      "cell_type": "markdown",
      "metadata": {},
      "source": [
        "We will solve the 1D advection-reaction equation using the first-order finite volume method.\n",
        "\n",
        "The governing equation is\n",
        "$$\n",
        "   u_x + u = f\n",
        "$$\n",
        "on the domain $\\Omega = [0,2\\pi]$, with inflow condition $u(0) = 1$.\n",
        "\n",
        "Let $f(x) = \\cos(x) - \\sin(x)$, so that the solution is given by $u(x) = \\cos(x)$.\n",
        "\n",
        "The finite volume method divides the domain into cells (in this case, intervals), and represents the solution over the $i\\text{th}$ cell by its mean value, represented $u_i$.\n",
        "\n",
        "Then, the integrated form of the governing equation is enforced.\n",
        "On the $i\\text{th}$ cell $[x_{i-1/2}, x_{i+1/2}]$ (where $x_{i+1/2} - x_{i-1/2} =: h$), we have\n",
        "$$\n",
        "   \\int_{x_{i-1/2}}^{x_{i+1/2}} u_x \\, dx + \\int_{x_{i-1/2}}^{x_{i+1/2}} u \\, dx = \\int_{x_{i-1/2}}^{x_{i+1/2}} f \\, dx.\n",
        "$$\n",
        "The right-hand side is simply written $h f_i$.\n",
        "The second term on the left-hand side is given by $h u_i$.\n",
        "For the first term, we use divergence theorem (fundamental theorem of calculus in 1D), and replace $u$ with its numerical flux\n",
        "$$\n",
        "   \\int_{x_{i-1/2}}^{x_{i+1/2}} u_x \\,dx = [u]_{x_{i-1/2}}^{x_{i+1/2}} = \\widehat{u}_{i+1/2} - \\widehat{u}_{i-1/2},\n",
        "$$\n",
        "where $\\widehat{u}_{i+1/2}$ is the **upwind value** of $u$, i.e. $\\widehat{u}_{i+1/2} = u_i$ (and analogously for $\\widehat{u}_{i-1/2}$).\n",
        "At the boundaries, the upwind value of $u$ should be modified to take into account the **inflow boundary condition**.\n",
        "\n",
        "Then, method can be written as\n",
        "$$\n",
        "   \\fbox{$\\widehat{u}_{i+1/2} - \\widehat{u}_{i-1/2} + h u_i = h f_i$}\n",
        "$$"
      ]
    },
    {
      "attachments": {},
      "cell_type": "markdown",
      "metadata": {},
      "source": [
        "#### 5. (2 points)\n",
        "\n",
        "We will use a simple **one-point quadrature rule**, i.e.\n",
        "$$\n",
        "   \\int_{x_{i-1/2}}^{x_{i+1/2}} f \\, dx \\approx h f(x_i) =: h f_i,\n",
        "$$\n",
        "where $x_i$ is the **midpoint** of the interval and $h$ is its length.\n",
        "\n",
        "Create a function that returns the vector $\\{ h f_i \\}$, given a number of (equal-sized) subintervals."
      ]
    },
    {
      "cell_type": "code",
      "execution_count": 1,
      "metadata": {
        "vscode": {
          "languageId": "python"
        }
      },
      "outputs": [],
      "source": [
        "import numpy as np\n",
        "import matplotlib.pyplot as plt"
      ]
    },
    {
      "cell_type": "code",
      "execution_count": 2,
      "metadata": {
        "vscode": {
          "languageId": "python"
        }
      },
      "outputs": [],
      "source": [
        "def form_f(n):\n",
        "   \"\"\"\n",
        "   Return the vector corresponding to the function f integrated over n subintervals.\n",
        "   \"\"\""
      ]
    },
    {
      "attachments": {},
      "cell_type": "markdown",
      "metadata": {},
      "source": [
        "#### 6. (2 points)\n",
        "\n",
        "Write a function that returns the right-hand side vector, by using `form_f` and taking into account the inflow boundary condition."
      ]
    },
    {
      "cell_type": "code",
      "execution_count": 3,
      "metadata": {
        "vscode": {
          "languageId": "python"
        }
      },
      "outputs": [],
      "source": [
        "def form_rhs(n):\n",
        "   \"\"\"\n",
        "   Return the vector corresponding to the right-hand side.\n",
        "   \"\"\""
      ]
    },
    {
      "attachments": {},
      "cell_type": "markdown",
      "metadata": {},
      "source": [
        "#### 7. (2 points)\n",
        "\n",
        "Write a function that returns a matrix corresponding to the linear operator that gives the left-hand side of the discretization when applied to a vector $\\{ u_i \\}$."
      ]
    },
    {
      "cell_type": "code",
      "execution_count": 4,
      "metadata": {
        "vscode": {
          "languageId": "python"
        }
      },
      "outputs": [],
      "source": [
        "def form_matrix(n):\n",
        "   \"\"\"\n",
        "   Return the n * n discretization matrix A\n",
        "   \"\"\"\n",
        "      "
      ]
    },
    {
      "attachments": {},
      "cell_type": "markdown",
      "metadata": {},
      "source": [
        "#### 8. (4 points)\n",
        "\n",
        "Solve the problem on a mesh with 100 cells (using, e.g., `np.linalg.solve`) and plot the results.\n",
        "\n",
        "Write a function that returns the (approximate) $L^2$ error on a mesh with $n$ cells.\n",
        "\n",
        "Run this function with $n = 100, 200, 400, 800$.\n",
        "Estimate the order of accuracy.\n",
        "Do your results agree with the theory?"
      ]
    },
    {
      "cell_type": "code",
      "execution_count": 5,
      "metadata": {
        "vscode": {
          "languageId": "python"
        }
      },
      "outputs": [],
      "source": [
        "def compute_error(n):\n",
        "   \"\"\"\n",
        "   Return the L^2 error of the finite volume discretization on a mesh with n cells.\n",
        "   \"\"\""
      ]
    },
    {
      "attachments": {},
      "cell_type": "markdown",
      "metadata": {},
      "source": [
        "#### 9. (4 points)\n",
        "\n",
        "Suppose the velocity now points the other direction, so the equation is\n",
        "$$\n",
        "   -u_x + u = f.\n",
        "$$\n",
        "Keep the solution $u$ the same.\n",
        "\n",
        "What has to change to the formulation of the problem?\n",
        "\n",
        "What has to change to the discretization and code?"
      ]
    }
  ],
  "metadata": {
    "colab": {
      "provenance": []
    },
    "kernelspec": {
      "display_name": "mth-652",
      "language": "python",
      "name": "mth-652"
    },
    "vscode": {
      "interpreter": {
        "hash": "b0fa6594d8f4cbf19f97940f81e996739fb7646882a419484c72d19e05852a7e"
      }
    }
  },
  "nbformat": 4,
  "nbformat_minor": 0
}
